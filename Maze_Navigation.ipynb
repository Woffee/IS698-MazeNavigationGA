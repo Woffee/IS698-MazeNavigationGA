{
  "nbformat": 4,
  "nbformat_minor": 0,
  "metadata": {
    "colab": {
      "name": "Maze-Navigation.ipynb",
      "provenance": []
    },
    "kernelspec": {
      "name": "python3",
      "display_name": "Python 3"
    }
  },
  "cells": [
    {
      "cell_type": "markdown",
      "metadata": {
        "id": "1y2r9eaDF0b_"
      },
      "source": [
        "#**Robot Maze Navigation Notebook**\n",
        "\n",
        "\n",
        "*   Mark Nelson <mnelson@american.edu>, 12/2019\n",
        "*   Amy K Hoover <ahoover@njit.edu>, 11/2020"
      ]
    },
    {
      "cell_type": "markdown",
      "metadata": {
        "id": "2JTzU_M9aev0"
      },
      "source": [
        "##Google Drive Integration - To save maze images"
      ]
    },
    {
      "cell_type": "code",
      "metadata": {
        "id": "CLKpm1h6aqD8",
        "colab": {
          "base_uri": "https://localhost:8080/",
          "height": 560
        },
        "outputId": "20b376a3-b26f-4141-bd97-09e210231570"
      },
      "source": [
        "from google.colab import drive\n",
        "drive.mount('/content/drive')\n",
        "\n",
        "\n",
        "\n",
        "#!pwd\n",
        "#%cd drive\n",
        "#!ls\n",
        "#%cd 'MyDrive'\n",
        "#!mkdir 'Test-refactor'\n",
        "#%cd 'Test-refactor'\n",
        "pwd = !pwd\n",
        "print(f\"Note: Our image files will save in {pwd}\")"
      ],
      "execution_count": null,
      "outputs": [
        {
          "output_type": "error",
          "ename": "KeyboardInterrupt",
          "evalue": "ignored",
          "traceback": [
            "\u001b[0;31m---------------------------------------------------------------------------\u001b[0m",
            "\u001b[0;31mKeyboardInterrupt\u001b[0m                         Traceback (most recent call last)",
            "\u001b[0;32m/usr/local/lib/python3.6/dist-packages/ipykernel/kernelbase.py\u001b[0m in \u001b[0;36m_input_request\u001b[0;34m(self, prompt, ident, parent, password)\u001b[0m\n\u001b[1;32m    728\u001b[0m             \u001b[0;32mtry\u001b[0m\u001b[0;34m:\u001b[0m\u001b[0;34m\u001b[0m\u001b[0;34m\u001b[0m\u001b[0m\n\u001b[0;32m--> 729\u001b[0;31m                 \u001b[0mident\u001b[0m\u001b[0;34m,\u001b[0m \u001b[0mreply\u001b[0m \u001b[0;34m=\u001b[0m \u001b[0mself\u001b[0m\u001b[0;34m.\u001b[0m\u001b[0msession\u001b[0m\u001b[0;34m.\u001b[0m\u001b[0mrecv\u001b[0m\u001b[0;34m(\u001b[0m\u001b[0mself\u001b[0m\u001b[0;34m.\u001b[0m\u001b[0mstdin_socket\u001b[0m\u001b[0;34m,\u001b[0m \u001b[0;36m0\u001b[0m\u001b[0;34m)\u001b[0m\u001b[0;34m\u001b[0m\u001b[0;34m\u001b[0m\u001b[0m\n\u001b[0m\u001b[1;32m    730\u001b[0m             \u001b[0;32mexcept\u001b[0m \u001b[0mException\u001b[0m\u001b[0;34m:\u001b[0m\u001b[0;34m\u001b[0m\u001b[0;34m\u001b[0m\u001b[0m\n",
            "\u001b[0;32m/usr/local/lib/python3.6/dist-packages/jupyter_client/session.py\u001b[0m in \u001b[0;36mrecv\u001b[0;34m(self, socket, mode, content, copy)\u001b[0m\n\u001b[1;32m    802\u001b[0m         \u001b[0;32mtry\u001b[0m\u001b[0;34m:\u001b[0m\u001b[0;34m\u001b[0m\u001b[0;34m\u001b[0m\u001b[0m\n\u001b[0;32m--> 803\u001b[0;31m             \u001b[0mmsg_list\u001b[0m \u001b[0;34m=\u001b[0m \u001b[0msocket\u001b[0m\u001b[0;34m.\u001b[0m\u001b[0mrecv_multipart\u001b[0m\u001b[0;34m(\u001b[0m\u001b[0mmode\u001b[0m\u001b[0;34m,\u001b[0m \u001b[0mcopy\u001b[0m\u001b[0;34m=\u001b[0m\u001b[0mcopy\u001b[0m\u001b[0;34m)\u001b[0m\u001b[0;34m\u001b[0m\u001b[0;34m\u001b[0m\u001b[0m\n\u001b[0m\u001b[1;32m    804\u001b[0m         \u001b[0;32mexcept\u001b[0m \u001b[0mzmq\u001b[0m\u001b[0;34m.\u001b[0m\u001b[0mZMQError\u001b[0m \u001b[0;32mas\u001b[0m \u001b[0me\u001b[0m\u001b[0;34m:\u001b[0m\u001b[0;34m\u001b[0m\u001b[0;34m\u001b[0m\u001b[0m\n",
            "\u001b[0;32m/usr/local/lib/python3.6/dist-packages/zmq/sugar/socket.py\u001b[0m in \u001b[0;36mrecv_multipart\u001b[0;34m(self, flags, copy, track)\u001b[0m\n\u001b[1;32m    490\u001b[0m         \"\"\"\n\u001b[0;32m--> 491\u001b[0;31m         \u001b[0mparts\u001b[0m \u001b[0;34m=\u001b[0m \u001b[0;34m[\u001b[0m\u001b[0mself\u001b[0m\u001b[0;34m.\u001b[0m\u001b[0mrecv\u001b[0m\u001b[0;34m(\u001b[0m\u001b[0mflags\u001b[0m\u001b[0;34m,\u001b[0m \u001b[0mcopy\u001b[0m\u001b[0;34m=\u001b[0m\u001b[0mcopy\u001b[0m\u001b[0;34m,\u001b[0m \u001b[0mtrack\u001b[0m\u001b[0;34m=\u001b[0m\u001b[0mtrack\u001b[0m\u001b[0;34m)\u001b[0m\u001b[0;34m]\u001b[0m\u001b[0;34m\u001b[0m\u001b[0;34m\u001b[0m\u001b[0m\n\u001b[0m\u001b[1;32m    492\u001b[0m         \u001b[0;31m# have first part already, only loop while more to receive\u001b[0m\u001b[0;34m\u001b[0m\u001b[0;34m\u001b[0m\u001b[0;34m\u001b[0m\u001b[0m\n",
            "\u001b[0;32mzmq/backend/cython/socket.pyx\u001b[0m in \u001b[0;36mzmq.backend.cython.socket.Socket.recv\u001b[0;34m()\u001b[0m\n",
            "\u001b[0;32mzmq/backend/cython/socket.pyx\u001b[0m in \u001b[0;36mzmq.backend.cython.socket.Socket.recv\u001b[0;34m()\u001b[0m\n",
            "\u001b[0;32mzmq/backend/cython/socket.pyx\u001b[0m in \u001b[0;36mzmq.backend.cython.socket._recv_copy\u001b[0;34m()\u001b[0m\n",
            "\u001b[0;32m/usr/local/lib/python3.6/dist-packages/zmq/backend/cython/checkrc.pxd\u001b[0m in \u001b[0;36mzmq.backend.cython.checkrc._check_rc\u001b[0;34m()\u001b[0m\n",
            "\u001b[0;31mKeyboardInterrupt\u001b[0m: ",
            "\nDuring handling of the above exception, another exception occurred:\n",
            "\u001b[0;31mKeyboardInterrupt\u001b[0m                         Traceback (most recent call last)",
            "\u001b[0;32m<ipython-input-1-1896dfc5b25e>\u001b[0m in \u001b[0;36m<module>\u001b[0;34m()\u001b[0m\n\u001b[1;32m      1\u001b[0m \u001b[0;32mfrom\u001b[0m \u001b[0mgoogle\u001b[0m\u001b[0;34m.\u001b[0m\u001b[0mcolab\u001b[0m \u001b[0;32mimport\u001b[0m \u001b[0mdrive\u001b[0m\u001b[0;34m\u001b[0m\u001b[0;34m\u001b[0m\u001b[0m\n\u001b[0;32m----> 2\u001b[0;31m \u001b[0mdrive\u001b[0m\u001b[0;34m.\u001b[0m\u001b[0mmount\u001b[0m\u001b[0;34m(\u001b[0m\u001b[0;34m'/content/drive'\u001b[0m\u001b[0;34m)\u001b[0m\u001b[0;34m\u001b[0m\u001b[0;34m\u001b[0m\u001b[0m\n\u001b[0m\u001b[1;32m      3\u001b[0m \u001b[0;34m\u001b[0m\u001b[0m\n\u001b[1;32m      4\u001b[0m \u001b[0;34m\u001b[0m\u001b[0m\n\u001b[1;32m      5\u001b[0m \u001b[0;34m\u001b[0m\u001b[0m\n",
            "\u001b[0;32m/usr/local/lib/python3.6/dist-packages/google/colab/drive.py\u001b[0m in \u001b[0;36mmount\u001b[0;34m(mountpoint, force_remount, timeout_ms, use_metadata_server)\u001b[0m\n\u001b[1;32m    249\u001b[0m       \u001b[0;32mwith\u001b[0m \u001b[0m_output\u001b[0m\u001b[0;34m.\u001b[0m\u001b[0muse_tags\u001b[0m\u001b[0;34m(\u001b[0m\u001b[0;34m'dfs-auth-dance'\u001b[0m\u001b[0;34m)\u001b[0m\u001b[0;34m:\u001b[0m\u001b[0;34m\u001b[0m\u001b[0;34m\u001b[0m\u001b[0m\n\u001b[1;32m    250\u001b[0m         \u001b[0;32mwith\u001b[0m \u001b[0mopen\u001b[0m\u001b[0;34m(\u001b[0m\u001b[0mfifo\u001b[0m\u001b[0;34m,\u001b[0m \u001b[0;34m'w'\u001b[0m\u001b[0;34m)\u001b[0m \u001b[0;32mas\u001b[0m \u001b[0mfifo_file\u001b[0m\u001b[0;34m:\u001b[0m\u001b[0;34m\u001b[0m\u001b[0;34m\u001b[0m\u001b[0m\n\u001b[0;32m--> 251\u001b[0;31m           \u001b[0mfifo_file\u001b[0m\u001b[0;34m.\u001b[0m\u001b[0mwrite\u001b[0m\u001b[0;34m(\u001b[0m\u001b[0mget_code\u001b[0m\u001b[0;34m(\u001b[0m\u001b[0mauth_prompt\u001b[0m\u001b[0;34m)\u001b[0m \u001b[0;34m+\u001b[0m \u001b[0;34m'\\n'\u001b[0m\u001b[0;34m)\u001b[0m\u001b[0;34m\u001b[0m\u001b[0;34m\u001b[0m\u001b[0m\n\u001b[0m\u001b[1;32m    252\u001b[0m       \u001b[0mwrote_to_fifo\u001b[0m \u001b[0;34m=\u001b[0m \u001b[0;32mTrue\u001b[0m\u001b[0;34m\u001b[0m\u001b[0;34m\u001b[0m\u001b[0m\n\u001b[1;32m    253\u001b[0m     \u001b[0;32melif\u001b[0m \u001b[0mcase\u001b[0m \u001b[0;34m==\u001b[0m \u001b[0;36m5\u001b[0m\u001b[0;34m:\u001b[0m\u001b[0;34m\u001b[0m\u001b[0;34m\u001b[0m\u001b[0m\n",
            "\u001b[0;32m/usr/local/lib/python3.6/dist-packages/ipykernel/kernelbase.py\u001b[0m in \u001b[0;36mraw_input\u001b[0;34m(self, prompt)\u001b[0m\n\u001b[1;32m    702\u001b[0m             \u001b[0mself\u001b[0m\u001b[0;34m.\u001b[0m\u001b[0m_parent_ident\u001b[0m\u001b[0;34m,\u001b[0m\u001b[0;34m\u001b[0m\u001b[0;34m\u001b[0m\u001b[0m\n\u001b[1;32m    703\u001b[0m             \u001b[0mself\u001b[0m\u001b[0;34m.\u001b[0m\u001b[0m_parent_header\u001b[0m\u001b[0;34m,\u001b[0m\u001b[0;34m\u001b[0m\u001b[0;34m\u001b[0m\u001b[0m\n\u001b[0;32m--> 704\u001b[0;31m             \u001b[0mpassword\u001b[0m\u001b[0;34m=\u001b[0m\u001b[0;32mFalse\u001b[0m\u001b[0;34m,\u001b[0m\u001b[0;34m\u001b[0m\u001b[0;34m\u001b[0m\u001b[0m\n\u001b[0m\u001b[1;32m    705\u001b[0m         )\n\u001b[1;32m    706\u001b[0m \u001b[0;34m\u001b[0m\u001b[0m\n",
            "\u001b[0;32m/usr/local/lib/python3.6/dist-packages/ipykernel/kernelbase.py\u001b[0m in \u001b[0;36m_input_request\u001b[0;34m(self, prompt, ident, parent, password)\u001b[0m\n\u001b[1;32m    732\u001b[0m             \u001b[0;32mexcept\u001b[0m \u001b[0mKeyboardInterrupt\u001b[0m\u001b[0;34m:\u001b[0m\u001b[0;34m\u001b[0m\u001b[0;34m\u001b[0m\u001b[0m\n\u001b[1;32m    733\u001b[0m                 \u001b[0;31m# re-raise KeyboardInterrupt, to truncate traceback\u001b[0m\u001b[0;34m\u001b[0m\u001b[0;34m\u001b[0m\u001b[0;34m\u001b[0m\u001b[0m\n\u001b[0;32m--> 734\u001b[0;31m                 \u001b[0;32mraise\u001b[0m \u001b[0mKeyboardInterrupt\u001b[0m\u001b[0;34m\u001b[0m\u001b[0;34m\u001b[0m\u001b[0m\n\u001b[0m\u001b[1;32m    735\u001b[0m             \u001b[0;32melse\u001b[0m\u001b[0;34m:\u001b[0m\u001b[0;34m\u001b[0m\u001b[0;34m\u001b[0m\u001b[0m\n\u001b[1;32m    736\u001b[0m                 \u001b[0;32mbreak\u001b[0m\u001b[0;34m\u001b[0m\u001b[0;34m\u001b[0m\u001b[0m\n",
            "\u001b[0;31mKeyboardInterrupt\u001b[0m: "
          ]
        }
      ]
    },
    {
      "cell_type": "markdown",
      "metadata": {
        "id": "DiVllEbs1jKW"
      },
      "source": [
        "## Academic References"
      ]
    },
    {
      "cell_type": "markdown",
      "metadata": {
        "id": "blP2AFchwlj2"
      },
      "source": [
        "Adapted from:\n",
        "* J. Lehman & K.O. Stanley (2011). Abandoning Objectives: Evolution Through the Search for Novelty Alone. *Evolutionary Computation* 19(2): 189-223. https://doi.org/10.1162/EVCO_a_00025.\n",
        "\n",
        "In particular, the domain definition is based primarily on Figures 1-2 from that paper:\n",
        "\n",
        "![Lehman & Stanley (2011), Figures 1-2](http://www.kmjn.org/temp/robotdomain.png)"
      ]
    },
    {
      "cell_type": "markdown",
      "metadata": {
        "id": "I6SrZcm1SaNn"
      },
      "source": [
        "## Mazes\n"
      ]
    },
    {
      "cell_type": "markdown",
      "metadata": {
        "id": "-P1l3DaH8P-B"
      },
      "source": [
        "Visualization\n"
      ]
    },
    {
      "cell_type": "code",
      "metadata": {
        "id": "MqQ7YbYgz0cU"
      },
      "source": [
        "import math\n",
        "from PIL import Image, ImageDraw\n",
        "from IPython.display import display\n",
        "\n",
        "scalefactor = 40 # pixels per 'maze unit' for vis purposes\n",
        "border = 5       # in pixels\n",
        "markersize = 3   # in pixels, should be even\n",
        "linewidth = 2    # in pixels\n",
        "\n",
        "# convert world-space coordinate to pixel coordinate\n",
        "def coord(x):\n",
        "  if type(x) is list:\n",
        "    return [coord(elem) for elem in x]\n",
        "  elif type(x) is tuple:\n",
        "    return tuple(coord(elem) for elem in x)\n",
        "  else:\n",
        "    return int(scalefactor*x) + border\n",
        "\n",
        "# returns bounds for ImageDraw.Draw.ellipse()\n",
        "def marker(x):\n",
        "  return list(i - markersize for i in coord(x)) + list(i + markersize for i in coord(x))\n",
        "\n",
        "\n",
        "def showmaze(m,i):\n",
        "  width = m['dimensions'][0]\n",
        "  height = m['dimensions'][1]\n",
        "  img = Image.new(\"RGB\", (int(width*scalefactor) + 2*border, int(height*scalefactor) + 2*border), 'white')\n",
        "  img1 = ImageDraw.Draw(img)\n",
        "  img1.rectangle(coord([0.0, 0.0, width, height]), None, 'black')\n",
        "  img1.ellipse(marker(m['position']), 'black')\n",
        "  img1.ellipse(marker(m['goal']), 'red')\n",
        "  for obstacle in m['obstacles']:\n",
        "    img1.line(coord(obstacle), 'black', linewidth)\n",
        "  mazeNamePNG = \"maze_\" + str(i) + \".png\"\n",
        "  img.save(mazeNamePNG)\n",
        "  display(img)\n",
        " "
      ],
      "execution_count": null,
      "outputs": []
    },
    {
      "cell_type": "markdown",
      "metadata": {
        "id": "WomeqeKox1jP"
      },
      "source": [
        "\"Medium\" maze\n",
        "\n"
      ]
    },
    {
      "cell_type": "code",
      "metadata": {
        "id": "DQmF1f6YFfsr",
        "colab": {
          "base_uri": "https://localhost:8080/",
          "height": 291
        },
        "outputId": "48b9d2c4-e25f-4495-cd38-30c486a3758e"
      },
      "source": [
        "#(Lehman and Stanley, 2011, Figure 2)\n",
        "mediumWidth = 14.5\n",
        "mediumHeight = 6.6\n",
        "mediumMaze = {\n",
        "    'dimensions': (14.5, 6.6),\n",
        "\n",
        "    # 1. Obstacles to avoid are lines specified as [(x1,y1),(x2,y2)]\n",
        "    # 2. Perimeter walls are included as the last four sets of coordinates\n",
        "    # 3. The upper left corner of the maze is (0,0). The bottom right corner is (width, height)\n",
        "    'obstacles': [[(2.5, 3.0),(12.0, 6.6)], [(5.1, 2.2), (6.2, 4.4)],\n",
        "                  [(9.0, 3.1), (10.8, 6.15)], [(12.0, 4.3), (13.5, 6.6)],\n",
        "                  [(3.3, 1.9), (5.3, 0.0)], [(7.2, 2.3), (9.6, 0.0)],\n",
        "                  [(10.6, 2.9), (13.3, 0.0)],[(0.0,0.0),(mediumWidth,0.0)],\n",
        "                  [(0.0,0.0),(0.0,mediumHeight)], [(mediumWidth,0.0),(mediumWidth,mediumHeight)],\n",
        "                  [(0.0, mediumHeight), (mediumWidth, mediumHeight)]],\n",
        "   \n",
        "    'position': (1.0, 1.0),\n",
        "    'heading': 0, # in radians. 0 is to the right (+x axis); increasing heading rotates clockwise\n",
        "    'goal': (13.5, 4.9),\n",
        "}\n",
        "\n",
        "showmaze(mediumMaze,0)"
      ],
      "execution_count": null,
      "outputs": [
        {
          "output_type": "display_data",
          "data": {
            "image/png": "[encoded data removed]",
            "text/plain": [
              "<PIL.Image.Image image mode=RGB size=590x274 at 0x7F5CA411A7B8>"
            ]
          },
          "metadata": {
            "tags": []
          }
        }
      ]
    },
    {
      "cell_type": "markdown",
      "metadata": {
        "id": "4bokE9JS7hBs"
      },
      "source": [
        "\"Hard\" maze:"
      ]
    },
    {
      "cell_type": "code",
      "metadata": {
        "id": "VkSnLr8_7iO2",
        "colab": {
          "base_uri": "https://localhost:8080/",
          "height": 367
        },
        "outputId": "9a0f39e8-a8b5-4926-cdfe-a3a6e8ef1ecc"
      },
      "source": [
        "#(Lehman and Stanley, 2011, Figure 2)\n",
        "hardWidth = 8.5\n",
        "hardHeight = 8.5\n",
        "\n",
        "hardMaze = {\n",
        "    'dimensions': (8.5, 8.5),\n",
        "    # 1. Obstacles to avoid are lines specified as [(x1,y1),(x2,y2)]\n",
        "    # 2. Perimeter walls are included as the last four sets of coordinates\n",
        "    # 3. The upper left corner of the maze is (0,0). The bottom right corner is (width, height)\n",
        "\n",
        "    'obstacles': [[(0.0, 2.0), (2.4, 2.0)], [(2.4, 2.0), (5.7, 1.0)],\n",
        "                  [(2.4, 2.0), (2.4, 6.5)], [(0.0, 3.2), (1.4, 5.0)],\n",
        "                  [(2.4, 4.3), (6.8, 6.8)], [(3.3, 8.5), (4.7, 6.9)],\n",
        "                  [(3.6, 3.6), (8.5, 6.2)],[(0.0,0.0),(hardWidth,0.0)],\n",
        "                  [(0.0,0.0),(0.0,hardHeight)], [(hardWidth,0.0),(hardWidth,hardHeight)],\n",
        "                  [(0.0, hardHeight), (hardWidth, hardHeight)]],\n",
        "   \n",
        "    'position': (1.5, 7.8),\n",
        "    'heading': 0,\n",
        "    'goal': (1.5, 0.5),\n",
        "}\n",
        "\n",
        "showmaze(hardMaze,0)"
      ],
      "execution_count": null,
      "outputs": [
        {
          "output_type": "display_data",
          "data": {
            "image/png": "[encoded data removed]",
            "text/plain": [
              "<PIL.Image.Image image mode=RGB size=350x350 at 0x7FC646FB6AC8>"
            ]
          },
          "metadata": {
            "tags": []
          }
        }
      ]
    },
    {
      "cell_type": "markdown",
      "metadata": {
        "id": "-VZfKRhDx8zK"
      },
      "source": [
        "## Robot Controllers\n"
      ]
    },
    {
      "cell_type": "markdown",
      "metadata": {
        "id": "pJ0urLzax-sA"
      },
      "source": [
        "The controller can move forward/back along the current heading, and rotate left/right to change heading (based on my intepretation of Fig. 1 at the top of this notebook). At each timestep it should return a 2-tuple:\n",
        "* Forward/back speed, in the range [-1.0,1.0]. Max speed (i.e. -1.0 or 1.0) is equal to the 'speed' simulation parameter above, and lower speeds are linearly scaled.\n",
        "* Left/right rotation, in the range [-1.0, 1.0]. Max rotation in either direction is 180 degrees. 0.0 means continue on the current heading, -0.5 means turn 90 degrees to the left, etc.\n",
        "\n",
        "The controller is given a 10-element list with current sensor readings (see Fig. 1 again):\n",
        "* The first six rangefinder sensors give the distance to the nearest obstacle in the directions: left, left-front, front, right-front, front, and rear (relative to current heading).\n",
        "* The last four wedge sensors will have exactly one of the four set to 1.0, and the others to 0.0. The one set to 1.0 indicates the 90-degree quadrant that the goal is in, relative to the current heading. The order of the quadrants is: left, front, right, back."
      ]
    },
    {
      "cell_type": "markdown",
      "metadata": {
        "id": "7Ln_iMIa8rhF"
      },
      "source": [
        "Random controller:"
      ]
    },
    {
      "cell_type": "code",
      "metadata": {
        "id": "3PXxVtF5yn1M"
      },
      "source": [
        "import random\n",
        "def randomController(sensors):\n",
        "  # ignores sensors\n",
        "  return (random.uniform(-1, 1), random.uniform(-1,1))"
      ],
      "execution_count": null,
      "outputs": []
    },
    {
      "cell_type": "markdown",
      "metadata": {
        "id": "d4W1S6Z28uEX"
      },
      "source": [
        "Go-straight controller:"
      ]
    },
    {
      "cell_type": "code",
      "metadata": {
        "id": "6XuMn0ll8vkE"
      },
      "source": [
        "def goStraight(sensors):\n",
        "  # ignores sensors\n",
        "  return (1.0, 0.0)"
      ],
      "execution_count": null,
      "outputs": []
    },
    {
      "cell_type": "markdown",
      "metadata": {
        "id": "Q9r6V8ddGsTv"
      },
      "source": [
        "A controller that goes mostly straight, but avoids walls, mostly to test use of the sensors:"
      ]
    },
    {
      "cell_type": "code",
      "metadata": {
        "id": "yavI5j2dG70v"
      },
      "source": [
        "def goStraightAvoid(sensors):\n",
        "  # go left-forward, forward, or right-forward, depending on which direction is furthest from obstacles\n",
        "  if sensors[2] >= sensors[1] and sensors[2] >= sensors[3]:\n",
        "    return (1.0, 0.0)        # go straight\n",
        "  elif sensors[1] > sensors[3]:\n",
        "    return (1.0, -0.25) # turn 45 degrees left\n",
        "  return (1.0, 0.25)  # turn 45 degrees right"
      ],
      "execution_count": null,
      "outputs": []
    },
    {
      "cell_type": "markdown",
      "metadata": {
        "id": "OE4iLV99HVHR"
      },
      "source": [
        "ANN Controller Definition"
      ]
    },
    {
      "cell_type": "code",
      "metadata": {
        "id": "YETaVi3QA7Ju"
      },
      "source": [
        "import math\n",
        "import pprint\n",
        "\n",
        "#Note: Used activation function tanh because -1, 1\n",
        "def ANNController(sensors, network):\n",
        "  return network.Evaluate(sensors)"
      ],
      "execution_count": null,
      "outputs": []
    },
    {
      "cell_type": "markdown",
      "metadata": {
        "id": "XclgPSTPHbVD"
      },
      "source": [
        "### ANN Logic\n",
        "\n",
        "This code is an except from Matt Fontaine's EvoSabber code available at https://github.com/tehqin/EvoStone/blob/master/DeckEvaluator/src/NeuralNet/FullyConnectedNetwork.cs\n",
        "\n",
        "Assembled by:\n",
        "*   Amy K Hoover <ahoover@njit.edu>, 11/2020"
      ]
    },
    {
      "cell_type": "code",
      "metadata": {
        "id": "Ih6pEnut4-HQ"
      },
      "source": [
        "\n",
        "class FullyConnectedNetwork:\n",
        "\n",
        "  def __init__(self, networkTopology):\n",
        "    self._layerSizes = networkTopology\n",
        "    self._weights = []\n",
        "    self._bias = []\n",
        "    self.NumWeights = 0\n",
        "    self.NumBias =0\n",
        "\n",
        "    # Set self._weights such that each layer i has exactly one connection\n",
        "    # to layer i + 1. \n",
        "    # Initially weights should be zero.\n",
        "    # Replace TODO\n",
        "\n",
        "    for i in range(len(self._layerSizes)-1):\n",
        "      self._weights.append(TODO)\n",
        "\n",
        "    # Calculate the total number of weights for the network and the bias inputs\n",
        "    # Replace TODO\n",
        "    for p in range(len(self._layerSizes)-1):\n",
        "      self.NumWeights += TODO\n",
        "      self.NumBias += TODO\n",
        "\n",
        "    # Add bias weights. Replace TODO     \n",
        "    for t in range(self.NumBias):\n",
        "      self._bias.append(TODO)\n",
        "\n",
        "  def SetWeights(self,weightVector):\n",
        "    if len(weightVector) != self.NumWeights + self.NumBias:\n",
        "      print(\"Neural Network Logic Check\")\n",
        "      print(\"Num Weight Mismatch {len(weightVector)} vs {self.NumWeights} + {self.NumBias} = {self.NumWeights + self.NumBias}\")\n",
        "      print(f\"Num Weight Mismatch {len(weightVector)} vs {self.NumWeights} + {self.NumBias} = {self.NumWeights + self.NumBias}\")\n",
        "\n",
        "    # Set the weights of our neural network.\n",
        "    # Replace TODO\n",
        "    counter = 0;\n",
        "    for k  in range(len(self._layerSizes) - 1):\n",
        "      for i  in range (self._layerSizes[k]):\n",
        "        for j in range(self._layerSizes[k + 1]):\n",
        "          self._weights[k][i][j] = TODO\n",
        "          counter +=1\n",
        "\n",
        "    # Set the weights of our neural network bias\n",
        "    # Replace TODO\n",
        "    i = 0\n",
        "    for i in range(self.NumBias):\n",
        "      self._bias[i] = TODO\n",
        "      counter+=1\n",
        "                         \n",
        "  def Evaluate(self,input):\n",
        "    if len(input) != self._layerSizes[0]:\n",
        "      print(\"Input layer size doesn't match input vector\");\n",
        "      return null;    \n",
        "\n",
        "    counter = 0\n",
        "    layer = input\n",
        "\n",
        "    # For each layer of the ANN\n",
        "    for k in range(len(self._layerSizes) - 1):\n",
        "      # Save the next layer \n",
        "      nextLayer = []\n",
        "      i = 0\n",
        "      for i in range(self._layerSizes[k + 1]):\n",
        "        # Appending 0 for python hack\n",
        "        nextLayer.append(0)\n",
        "        # Replacing zero with value of self._bias at position counter\n",
        "        nextLayer[i] = self._bias[counter];\n",
        "        counter+=1\n",
        "                \n",
        "      i = 0\n",
        "      for i in range(self._layerSizes[k]):\n",
        "        for j  in range(self._layerSizes[k + 1]):\n",
        "          # TODO: Set nextLayer[j] to the activation sum\n",
        "          # To nextLayer[j], decide how to get the value from layer and\n",
        "          # multiply it by the weights indexed by i,j,k\n",
        "          # Replace TODO\n",
        "          nextLayer[j] += TODO\n",
        "\n",
        "      j = 0\n",
        "      for j  in range(self._layerSizes[k + 1]):\n",
        "        # Set previous nextLayer[j] to the activated values by calling a\n",
        "        # function (it could be tanh if you want) from the math\n",
        "        # library\n",
        "        nextLayer[j] = TODO\n",
        "        layer = nextLayer;\n",
        "\n",
        "    return layer"
      ],
      "execution_count": null,
      "outputs": []
    },
    {
      "cell_type": "markdown",
      "metadata": {
        "id": "-cnueTDczm_k"
      },
      "source": [
        "## Simulation"
      ]
    },
    {
      "cell_type": "markdown",
      "metadata": {
        "id": "BcmPUy0y-IHo"
      },
      "source": [
        "Parameters"
      ]
    },
    {
      "cell_type": "code",
      "metadata": {
        "id": "Q2l9Y-xDgT4C"
      },
      "source": [
        "# robot max speed, in world units per timestep\n",
        "SPEED = 0.1\n",
        "\n",
        "# epsilon distance for considering goal reached, collisions, etc.\n",
        "epsilon = 0.01\n",
        "sqEpsilon = epsilon**2\n",
        "\n",
        "# interval to update visualization\n",
        "visInterval = 1\n",
        "\n",
        "# max simulation timesteps\n",
        "timeout = 400"
      ],
      "execution_count": null,
      "outputs": []
    },
    {
      "cell_type": "markdown",
      "metadata": {
        "id": "LmQB3J4ohkWd"
      },
      "source": [
        "Utility"
      ]
    },
    {
      "cell_type": "code",
      "metadata": {
        "id": "Tn__nHQlg9Vo"
      },
      "source": [
        "from shapely.geometry import Point, LineString\n",
        "import copy\n",
        "\n",
        "def sqDistance(pos1, pos2):\n",
        "  return (pos1[0] - pos2[0])**2 + (pos1[1] - pos2[1])**2\n",
        "\n",
        "def isGoal(state):\n",
        "  return sqDistance(state['position'], state['goal']) < sqEpsilon\n",
        "\n",
        "# Given the robot's current heading, and an amount to rotate, return the new heading of the robot once it will rotate (all normalized in radians)\n",
        "def rotateRobot(currentHeading, amount):\n",
        "  return (currentHeading + amount) % (math.pi * 2.0)\n",
        "\n",
        "# IF you are heading in a direction, and you need to know what heading is some offset from the current heading (the sensors need this information), return the offset heading\n",
        "def findOffset(currentHeading, amount):\n",
        "  return rotateRobot(currentHeading, amount)\n",
        "\n",
        "# distance to the nearest obstacle in a given direction\n",
        "def rangeSensor(pos, direction, obstacles, maxDist):\n",
        "  pos2 = (pos[0] + math.cos(direction) * maxDist,\n",
        "          pos[1] + math.sin(direction) * maxDist)\n",
        "  testray = LineString([pos, pos2])\n",
        "  collisions = [testray.intersection(obstacle) for obstacle in obstacles]\n",
        "  posPt = Point(pos[0], pos[1])\n",
        "  distances = [posPt.distance(c) for c in collisions if c]\n",
        "  return min(distances)\n",
        "\n"
      ],
      "execution_count": null,
      "outputs": []
    },
    {
      "cell_type": "markdown",
      "metadata": {
        "id": "hn5GXd66xzlq"
      },
      "source": [
        "The main simulation loop:"
      ]
    },
    {
      "cell_type": "code",
      "metadata": {
        "id": "WLhsmtHCeSzW"
      },
      "source": [
        "import math\n",
        "# Add link to EvoSabber fully connected network here (TODO for Amy)\n",
        "\n",
        "### A constant list that helps us easily access the angles of the following directions: \n",
        "##  angled (in order): left, left-center, center, right-center, right, back\n",
        "#\n",
        "RANGE_SENSOR_DIRECTIONS = [-math.pi/2, -math.pi/4, 0, math.pi/4, math.pi/2, math.pi]\n",
        "NETWORK_TOPOLOGY = [10,1,1,2]\n",
        "\n",
        "def runSimulation(initState, controller, weights):\n",
        "\n",
        "  ## Create Neural Network Controller with the default NETWORK_TOPOLOGY\n",
        "  ## TODO set the controller's weights to the vector passed in through runSimulation\n",
        "  network = FullyConnectedNetwork(NETWORK_TOPOLOGY)\n",
        "  network.SetWeights(weights)\n",
        "\n",
        "  # What follows is from the original runSimulation logic\n",
        "  state = copy.copy(initState)\n",
        "  timestep = 0\n",
        "  (width, height) = state['dimensions']\n",
        "  obstacles = [LineString(obstacle) for obstacle in state['obstacles']]\n",
        "  maxDist = math.sqrt(width**2 + height**2) # max distance between points in the maze\n",
        "\n",
        "\n",
        "\n",
        "  print(f\"Initial state (i.e., timestep = {0}):\")\n",
        "  showmaze(state,timestep)\n",
        "\n",
        "  while timestep < timeout:\n",
        "    if isGoal(state):\n",
        "      print(\"Returning before timeout!\")\n",
        "      return \n",
        "\n",
        "    timestep+= 1\n",
        "    print(f\"Step {timestep}:\")\n",
        "    showmaze(state, timestep)\n",
        "\n",
        "    ##################\n",
        "    # Update Sensors #\n",
        "    ##################\n",
        "    \n",
        "    \n",
        "      ### Range Finder Sensors:\n",
        "      ##  Description: These sensors find the distance to the nearest obstacle in each of the directions specified\n",
        "      #   in the RANGE_SENSOR_DIRECTIONS constant\n",
        "\n",
        "    rangeSensors = [rangeSensor(state['position'], findOffset(state['heading'], direction), obstacles, maxDist)\n",
        "                    for direction in RANGE_SENSOR_DIRECTIONS]\n",
        "    \n",
        "      ### Wedge Sensors: \n",
        "      ##  Description: Wedge sensors divide a robot's 360 degree (2pi radians) view of the world into four quadrants.\n",
        "      #   The value one is passed in when the goal through the wall is located in the quadrant specified relative to the robot's heading\n",
        "      #   Only one of these sensors should input the value one at a time. The other wedge sensors should input zero.\n",
        "    \n",
        "\n",
        "      # We perform the calculation for the wedge sensor inputs and save it to angleToGoal. It is relative to heading, normalized to [0, 2pi], where 0 is forward\n",
        "    angleToGoal = (math.atan2(state['goal'][1] - state['position'][1], state['goal'][0] - state['position'][0]) - state['heading']) % (math.pi * 2.0)\n",
        "\n",
        "\n",
        "    \n",
        "      # If the current robot heading shows the goal is in the RIGHT quadrant\n",
        "    if 0.25*math.pi < angleToGoal <= 0.75*math.pi:   \n",
        "      wedgeSensors = [0.0, 0.0, 1.0, 0.0]\n",
        "      # If the current robot heading shows the goal is in the REAR quadrant\n",
        "    elif 0.75*math.pi < angleToGoal <= 1.25*math.pi: \n",
        "      wedgeSensors = [0.0, 0.0, 0.0, 1.0]\n",
        "      # If the current robot heading shows the goal is in the LEFT quadrant\n",
        "    elif 1.25*math.pi < angleToGoal <= 1.75*math.pi: \n",
        "      wedgeSensors = [1.0, 0.0, 0.0, 0.0]\n",
        "      # If the current robot heading shows the goal is in the FORWARD quadrant\n",
        "    else:                                            \n",
        "      wedgeSensors = [0.0, 1.0, 0.0, 0.0]\n",
        "\n",
        "    # We save the updated sensor calculations to our sensor list that our controller will access  \n",
        "    sensors = rangeSensors + wedgeSensors\n",
        "\n",
        "    ####################\n",
        "    # Query Controller #\n",
        "    ####################\n",
        "\n",
        "      ### Description: Our controller moves based on two output values. \n",
        "      ##. It's value for leftRight, and forwardBack\n",
        "      # TODO modify this controller to base its decisions from network values\n",
        "    (leftRight, forwardBack) = controller(sensors, network)\n",
        "      ##  forwardBack movement is multiplied by the speed constant defined in Simulation parameters.\n",
        "    movement = forwardBack * SPEED\n",
        "      #.  leftRight movement or rotation is applied to the robot's heading\n",
        "    state['heading'] = rotateRobot(state['heading'], leftRight * math.pi)\n",
        "\n",
        "    # collision detection and position updating:\n",
        "    # since we only have a point agent and line-segment obstacles, we can skip a\n",
        "    #   'real' physics engine and just look for whether our path on the next\n",
        "    #   timestep would intersect an obstacle\n",
        "\n",
        "    # Our robot's current position and a variable for the new position\n",
        "    currentPos = state['position']\n",
        "    newPos = 0\n",
        "\n",
        "    ### Our controller can move forward or backwards. Movment forward will be a positive value, while backwards will be negative.\n",
        "    ##  By doing this calculation now, the rest of the code does not need to account for backwards movement\n",
        "    #   We save the value in effectiveMovement\n",
        "    if (movement >= 0.0):\n",
        "      effectiveHeading = state['heading']\n",
        "      effectiveMovement = movement\n",
        "    else:\n",
        "      effectiveHeading = findOffset(state['heading'], 2*math.pi)\n",
        "      effectiveMovement = -movement\n",
        "\n",
        "    # Using trig and our rangesensor, we ask how far away we are from the nearest obstacle in the direction that we are heading\n",
        "    distToCollision = rangeSensor(currentPos, effectiveHeading, obstacles, maxDist)\n",
        "\n",
        "    ### If there will be a wall inbetween our robot (effectiveHeading) and the distance it wants to move (effectiveMovement)\n",
        "    ##  Then we want to handle collisions with a small amount of 'bounce'\n",
        "    #.  We bounce back 'epsilon,' a simulation parameter, from where we would otherwise collide (intersect the line)\n",
        "    if distToCollision <= effectiveMovement: \n",
        "      newPos = (currentPos[0] + math.cos(effectiveHeading) * (distToCollision - epsilon),\n",
        "                currentPos[1] + math.sin(effectiveHeading) * (distToCollision - epsilon))\n",
        "    # Otherwise, there was no impending collision. So move effectiveMovement distance along effectiveHeading direction\n",
        "    else:\n",
        "      newPos = (currentPos[0] + math.cos(effectiveHeading) * effectiveMovement,\n",
        "                currentPos[1] + math.sin(effectiveHeading) * effectiveMovement)\n",
        "      \n",
        "    ### Update our position based on the information we got from the controller, \n",
        "    ##. our forward/backward calculations, and collision detection (if any)\n",
        "    state['position'] = newPos\n",
        "\n",
        "  # Update our cell output to include results of our search\n",
        "  if isGoal(state):\n",
        "    print(f\"Goal reached in {timestep} steps:\")\n",
        "  else:\n",
        "    print(f\"Timeout at {timestep} steps:\")\n",
        "\n",
        "  # Modify this TODO to return a fitness value\n",
        "  return TODO\n",
        "    \n",
        "  \n",
        "  showmaze(state,timestep)\n"
      ],
      "execution_count": null,
      "outputs": []
    },
    {
      "cell_type": "markdown",
      "metadata": {
        "id": "ICPP-uMxzrFb"
      },
      "source": [
        "## Run"
      ]
    },
    {
      "cell_type": "code",
      "metadata": {
        "id": "AXkkBeWYZxwW",
        "colab": {
          "base_uri": "https://localhost:8080/",
          "height": 239
        },
        "outputId": "8f7e32bb-bf4c-49a4-b587-0022915de4be"
      },
      "source": [
        "# TODO weight vector should be passed in from GACode\n",
        "weightvector = [1,1,1,1,1,1,1,1,1,1,1,1,1,1,1,1,1] \n",
        "\n",
        "# List of controllers\n",
        "  # 1. randomController\n",
        "  # 2. goStraightController\n",
        "  # 3. goStraightAvoidController\n",
        "  # 4. ANNController\n",
        "\n",
        "# List of mazes\n",
        "  # 1. mediumMaze\n",
        "  # 2. hardMaze\n",
        "\n",
        "\n",
        "#runSimulation(mediumMaze, randomController)\n",
        "#runSimulation(mediumMaze, goStraightController)\n",
        "#runSimulation(mediumMaze, goStraightAvoidController)\n",
        "runSimulation(mediumMaze, ANNController, weightvector)\n",
        "\n",
        "#runSimulation(hardMaze, randomController)\n",
        "#runSimulation(hardMaze, goStraightController)\n",
        "#runSimulation(hardMaze, goStraightAvoidController)\n",
        "#runSimulation(hardMaze, ANNController)\n"
      ],
      "execution_count": null,
      "outputs": [
        {
          "output_type": "error",
          "ename": "NameError",
          "evalue": "ignored",
          "traceback": [
            "\u001b[0;31m---------------------------------------------------------------------------\u001b[0m",
            "\u001b[0;31mNameError\u001b[0m                                 Traceback (most recent call last)",
            "\u001b[0;32m<ipython-input-7-4f15e61c6ab5>\u001b[0m in \u001b[0;36m<module>\u001b[0;34m()\u001b[0m\n\u001b[1;32m     16\u001b[0m \u001b[0;31m#runSimulation(mediumMaze, goStraightController)\u001b[0m\u001b[0;34m\u001b[0m\u001b[0;34m\u001b[0m\u001b[0;34m\u001b[0m\u001b[0m\n\u001b[1;32m     17\u001b[0m \u001b[0;31m#runSimulation(mediumMaze, goStraightAvoidController)\u001b[0m\u001b[0;34m\u001b[0m\u001b[0;34m\u001b[0m\u001b[0;34m\u001b[0m\u001b[0m\n\u001b[0;32m---> 18\u001b[0;31m \u001b[0mrunSimulation\u001b[0m\u001b[0;34m(\u001b[0m\u001b[0mmediumMaze\u001b[0m\u001b[0;34m,\u001b[0m \u001b[0mANNController\u001b[0m\u001b[0;34m,\u001b[0m \u001b[0mweightvector\u001b[0m\u001b[0;34m)\u001b[0m\u001b[0;34m\u001b[0m\u001b[0;34m\u001b[0m\u001b[0m\n\u001b[0m\u001b[1;32m     19\u001b[0m \u001b[0;34m\u001b[0m\u001b[0m\n\u001b[1;32m     20\u001b[0m \u001b[0;31m#runSimulation(hardMaze, randomController)\u001b[0m\u001b[0;34m\u001b[0m\u001b[0;34m\u001b[0m\u001b[0;34m\u001b[0m\u001b[0m\n",
            "\u001b[0;31mNameError\u001b[0m: name 'ANNController' is not defined"
          ]
        }
      ]
    }
  ]
}